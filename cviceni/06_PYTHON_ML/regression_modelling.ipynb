{
 "cells": [
  {
   "cell_type": "code",
   "execution_count": 1,
   "metadata": {},
   "outputs": [],
   "source": [
    "import pandas as pd\n",
    "import numpy as np\n",
    "from sklearn.metrics import mean_squared_error\n",
    "from sklearn.model_selection import cross_val_score\n",
    "from sklearn.linear_model import LinearRegression\n",
    "from sklearn.preprocessing import OneHotEncoder\n",
    "import matplotlib.pyplot as plt\n",
    "from sklearn.model_selection import KFold\n",
    "import seaborn as sns\n",
    "import sklearn\n",
    "%matplotlib inline"
   ]
  },
  {
   "cell_type": "code",
   "execution_count": 2,
   "metadata": {},
   "outputs": [],
   "source": [
    "df = pd.read_csv('student-scores.csv')"
   ]
  },
  {
   "cell_type": "code",
   "execution_count": 3,
   "metadata": {},
   "outputs": [
    {
     "data": {
      "text/html": [
       "<div>\n",
       "<style scoped>\n",
       "    .dataframe tbody tr th:only-of-type {\n",
       "        vertical-align: middle;\n",
       "    }\n",
       "\n",
       "    .dataframe tbody tr th {\n",
       "        vertical-align: top;\n",
       "    }\n",
       "\n",
       "    .dataframe thead th {\n",
       "        text-align: right;\n",
       "    }\n",
       "</style>\n",
       "<table border=\"1\" class=\"dataframe\">\n",
       "  <thead>\n",
       "    <tr style=\"text-align: right;\">\n",
       "      <th></th>\n",
       "      <th>sex</th>\n",
       "      <th>eyes</th>\n",
       "      <th>grade</th>\n",
       "      <th>score_in</th>\n",
       "      <th>score_out</th>\n",
       "    </tr>\n",
       "  </thead>\n",
       "  <tbody>\n",
       "    <tr>\n",
       "      <th>0</th>\n",
       "      <td>Male</td>\n",
       "      <td>Green</td>\n",
       "      <td>High</td>\n",
       "      <td>95</td>\n",
       "      <td>116</td>\n",
       "    </tr>\n",
       "    <tr>\n",
       "      <th>1</th>\n",
       "      <td>Male</td>\n",
       "      <td>Blue</td>\n",
       "      <td>Low</td>\n",
       "      <td>92</td>\n",
       "      <td>96</td>\n",
       "    </tr>\n",
       "    <tr>\n",
       "      <th>2</th>\n",
       "      <td>Female</td>\n",
       "      <td>Blue</td>\n",
       "      <td>High</td>\n",
       "      <td>104</td>\n",
       "      <td>128</td>\n",
       "    </tr>\n",
       "    <tr>\n",
       "      <th>3</th>\n",
       "      <td>Female</td>\n",
       "      <td>Green</td>\n",
       "      <td>Low</td>\n",
       "      <td>96</td>\n",
       "      <td>104</td>\n",
       "    </tr>\n",
       "    <tr>\n",
       "      <th>4</th>\n",
       "      <td>Male</td>\n",
       "      <td>Green</td>\n",
       "      <td>High</td>\n",
       "      <td>104</td>\n",
       "      <td>116</td>\n",
       "    </tr>\n",
       "  </tbody>\n",
       "</table>\n",
       "</div>"
      ],
      "text/plain": [
       "      sex   eyes grade  score_in  score_out\n",
       "0    Male  Green  High        95        116\n",
       "1    Male   Blue   Low        92         96\n",
       "2  Female   Blue  High       104        128\n",
       "3  Female  Green   Low        96        104\n",
       "4    Male  Green  High       104        116"
      ]
     },
     "execution_count": 3,
     "metadata": {},
     "output_type": "execute_result"
    }
   ],
   "source": [
    "df.head()"
   ]
  },
  {
   "cell_type": "code",
   "execution_count": 74,
   "metadata": {},
   "outputs": [
    {
     "name": "stdout",
     "output_type": "stream",
     "text": [
      "18.16\n"
     ]
    }
   ],
   "source": [
    "pred = np.repeat(df['score_out'].mean(), df.shape[0])\n",
    "\n",
    "# root mean squared error\n",
    "n = Y.shape[0]\n",
    "err = df['score_out'] - pred\n",
    "rmse = np.sqrt(np.power(err, 2).sum() / n)\n",
    "\n",
    "print('{:.2f}'.format(rmse))"
   ]
  },
  {
   "cell_type": "code",
   "execution_count": 65,
   "metadata": {},
   "outputs": [
    {
     "name": "stdout",
     "output_type": "stream",
     "text": [
      "18.21\n"
     ]
    }
   ],
   "source": [
    "kcv = KFold(n_splits=5)\n",
    "scores = []\n",
    "\n",
    "for train_index, test_index in kcv.split(df['score_out']):\n",
    "    train = df.loc[train_index]\n",
    "    test = df.loc[test_index]\n",
    "    \n",
    "    estimator = train['score_out'].mean()\n",
    "    scores.append(mean_squared_error(test['score_out'], np.repeat(estimator, test.shape[0])))\n",
    "\n",
    "print('{:.2f}'.format(np.sqrt(np.mean(scores))))"
   ]
  },
  {
   "cell_type": "code",
   "execution_count": 11,
   "metadata": {},
   "outputs": [],
   "source": [
    "class NaiveEstimator(sklearn.base.BaseEstimator):\n",
    "    def __init__(self):\n",
    "        self.naive_predictor = 0\n",
    "    \n",
    "    def fit(self, x, y):\n",
    "        self.naive_predictor = y.mean()\n",
    "        return self\n",
    "        \n",
    "    def predict(self, train_data):\n",
    "        import numpy as np\n",
    "        return np.repeat(self.naive_predictor, train_data.shape[0])\n",
    "    \n",
    "class CatEstimator(sklearn.base.BaseEstimator):\n",
    "    def __init__(self):\n",
    "        self.cat_feature_name = ''        \n",
    "        self.cat_predictor = None\n",
    "        \n",
    "    def fit(self, x, y):\n",
    "        self.cat_predictor = dict(x.groupby(self.cat_feature_name)['score_out'].mean())\n",
    "        return self\n",
    "        \n",
    "    def predict(self, test_data):\n",
    "        pred = test_data.apply(lambda row: self.cat_predictor[row[self.cat_feature_name]], 1)\n",
    "        return pred\n",
    "    \n",
    "class GenderEstimator(CatEstimator):\n",
    "    def __init__(self):\n",
    "        self.cat_feature_name = 'sex'        \n",
    "        \n",
    "class GradeEstimator(CatEstimator):\n",
    "    def __init__(self):\n",
    "        self.cat_feature_name = 'grade' \n",
    "        \n",
    "class EyeColorEstimator(CatEstimator):\n",
    "    def __init__(self):\n",
    "        self.cat_feature_name = 'eyes'            "
   ]
  },
  {
   "cell_type": "code",
   "execution_count": 12,
   "metadata": {},
   "outputs": [],
   "source": [
    "X, Y = df[['sex', 'grade', 'eyes', 'score_out']], df['score_out']"
   ]
  },
  {
   "cell_type": "code",
   "execution_count": 13,
   "metadata": {},
   "outputs": [
    {
     "name": "stdout",
     "output_type": "stream",
     "text": [
      "mean estimator train error: 18.16\n"
     ]
    }
   ],
   "source": [
    "est = NaiveEstimator()\n",
    "est.fit(X, Y)\n",
    "score = np.sqrt(mean_squared_error(est.predict(X), Y))\n",
    "\n",
    "print('mean estimator train error: {:.2f}'.format(score))"
   ]
  },
  {
   "cell_type": "code",
   "execution_count": 15,
   "metadata": {},
   "outputs": [
    {
     "name": "stdout",
     "output_type": "stream",
     "text": [
      "mean estimator CV: 18.21\n"
     ]
    }
   ],
   "source": [
    "est = NaiveEstimator()\n",
    "score = np.sqrt(np.mean(-cross_val_score(est, df[['score_out']], df['score_out'], scoring='neg_mean_squared_error', cv=5)))\n",
    "\n",
    "print('mean estimator CV: {:.2f}'.format(score))"
   ]
  },
  {
   "cell_type": "code",
   "execution_count": 17,
   "metadata": {},
   "outputs": [
    {
     "name": "stdout",
     "output_type": "stream",
     "text": [
      "gender estimator train error: 18.16\n"
     ]
    }
   ],
   "source": [
    "est = GenderEstimator()\n",
    "est.fit(X, Y)\n",
    "score = np.sqrt(mean_squared_error(est.predict(X), Y))\n",
    "\n",
    "print('gender estimator train error: {:.2f}'.format(score))"
   ]
  },
  {
   "cell_type": "code",
   "execution_count": 18,
   "metadata": {},
   "outputs": [
    {
     "name": "stdout",
     "output_type": "stream",
     "text": [
      "gender estimator CV: 18.36\n"
     ]
    }
   ],
   "source": [
    "est = GenderEstimator()\n",
    "score = np.sqrt(np.mean(-cross_val_score(est, X, Y, scoring='neg_mean_squared_error', cv=5)))\n",
    "\n",
    "print('gender estimator CV: {:.2f}'.format(score))"
   ]
  },
  {
   "cell_type": "code",
   "execution_count": 19,
   "metadata": {},
   "outputs": [
    {
     "name": "stdout",
     "output_type": "stream",
     "text": [
      "grade estimator train error: 11.25\n"
     ]
    }
   ],
   "source": [
    "est = GradeEstimator()\n",
    "est.fit(X, Y)\n",
    "score = np.sqrt(mean_squared_error(est.predict(X), Y))\n",
    "\n",
    "print('grade estimator train error: {:.2f}'.format(score))"
   ]
  },
  {
   "cell_type": "code",
   "execution_count": 20,
   "metadata": {},
   "outputs": [
    {
     "name": "stdout",
     "output_type": "stream",
     "text": [
      "grade estimator CV: 11.46\n"
     ]
    }
   ],
   "source": [
    "est = GradeEstimator()\n",
    "score = np.sqrt(np.mean(-cross_val_score(est, X, Y, scoring='neg_mean_squared_error', cv=5)))\n",
    "\n",
    "print('grade estimator CV: {:.2f}'.format(score))"
   ]
  },
  {
   "cell_type": "code",
   "execution_count": 21,
   "metadata": {},
   "outputs": [
    {
     "name": "stdout",
     "output_type": "stream",
     "text": [
      "eyes estimator train error: 18.14\n"
     ]
    }
   ],
   "source": [
    "est = EyeColorEstimator()\n",
    "est.fit(X, Y)\n",
    "score = np.sqrt(mean_squared_error(est.predict(X), Y))\n",
    "\n",
    "print('eyes estimator train error: {:.2f}'.format(score))"
   ]
  },
  {
   "cell_type": "code",
   "execution_count": 22,
   "metadata": {},
   "outputs": [
    {
     "name": "stdout",
     "output_type": "stream",
     "text": [
      "score estimator CV: 18.84\n"
     ]
    }
   ],
   "source": [
    "est = EyeColorEstimator()\n",
    "score = np.sqrt(np.mean(-cross_val_score(est, X, Y, scoring='neg_mean_squared_error', cv=5)))\n",
    "\n",
    "print('score estimator CV: {:.2f}'.format(score))"
   ]
  },
  {
   "cell_type": "markdown",
   "metadata": {},
   "source": [
    "One-variable-regression"
   ]
  },
  {
   "cell_type": "code",
   "execution_count": 42,
   "metadata": {},
   "outputs": [],
   "source": [
    "X, Y = df[['score_in']], df['score_out']"
   ]
  },
  {
   "cell_type": "code",
   "execution_count": 47,
   "metadata": {},
   "outputs": [
    {
     "name": "stdout",
     "output_type": "stream",
     "text": [
      "linear model estimator train error: 12.86\n"
     ]
    }
   ],
   "source": [
    "model = LinearRegression()\n",
    "\n",
    "model.fit(X, Y)\n",
    "score = np.sqrt(mean_squared_error(model.predict(X), Y))\n",
    "\n",
    "print('linear model estimator train error: {:.2f}'.format(score))"
   ]
  },
  {
   "cell_type": "code",
   "execution_count": 44,
   "metadata": {},
   "outputs": [
    {
     "name": "stdout",
     "output_type": "stream",
     "text": [
      "linear model estimator CV: 13.03\n"
     ]
    }
   ],
   "source": [
    "model = LinearRegression()\n",
    "score = np.sqrt(np.mean(-cross_val_score(model, X, Y, cv=5, scoring='neg_mean_squared_error')))\n",
    "\n",
    "print('linear model estimator CV: {:.2f}'.format(score))"
   ]
  },
  {
   "cell_type": "code",
   "execution_count": 45,
   "metadata": {},
   "outputs": [
    {
     "name": "stderr",
     "output_type": "stream",
     "text": [
      "C:\\Users\\sstamenov\\AppData\\Local\\Continuum\\anaconda3\\lib\\site-packages\\scipy\\stats\\stats.py:1713: FutureWarning: Using a non-tuple sequence for multidimensional indexing is deprecated; use `arr[tuple(seq)]` instead of `arr[seq]`. In the future this will be interpreted as an array index, `arr[np.array(seq)]`, which will result either in an error or a different result.\n",
      "  return np.add.reduce(sorted[indexer] * weights, axis=axis) / sumval\n"
     ]
    },
    {
     "data": {
      "image/png": "[encoded data removed]",
      "text/plain": [
       "<Figure size 360x360 with 1 Axes>"
      ]
     },
     "metadata": {
      "needs_background": "light"
     },
     "output_type": "display_data"
    }
   ],
   "source": [
    "sns.lmplot('score_in', 'score_out', data=df);"
   ]
  },
  {
   "cell_type": "markdown",
   "metadata": {},
   "source": [
    "All params"
   ]
  },
  {
   "cell_type": "code",
   "execution_count": 53,
   "metadata": {},
   "outputs": [],
   "source": [
    "one_hot = pd.concat([df, pd.get_dummies(df['eyes']), pd.get_dummies(df['grade']), pd.get_dummies(df['sex'])], axis=1)\n",
    "\n",
    "X = one_hot[['score_in', 'Blue', 'Brown', 'Green', 'High', 'Low', 'Female', 'Male']]\n",
    "Y = df['score_out']"
   ]
  },
  {
   "cell_type": "code",
   "execution_count": 54,
   "metadata": {},
   "outputs": [
    {
     "name": "stdout",
     "output_type": "stream",
     "text": [
      "linear model estimator train error: 9.79\n"
     ]
    }
   ],
   "source": [
    "model = LinearRegression()\n",
    "\n",
    "model.fit(X, Y)\n",
    "score = np.sqrt(mean_squared_error(model.predict(X), Y))\n",
    "\n",
    "print('linear model estimator train error: {:.2f}'.format(score))"
   ]
  },
  {
   "cell_type": "code",
   "execution_count": 55,
   "metadata": {},
   "outputs": [
    {
     "data": {
      "image/png": "[encoded data removed]",
      "text/plain": [
       "<Figure size 432x288 with 1 Axes>"
      ]
     },
     "metadata": {
      "needs_background": "light"
     },
     "output_type": "display_data"
    }
   ],
   "source": [
    "pred = model.predict(X)\n",
    "residual = Y - pred\n",
    "\n",
    "plt.scatter(Y, residual);"
   ]
  },
  {
   "cell_type": "code",
   "execution_count": 56,
   "metadata": {},
   "outputs": [
    {
     "data": {
      "image/png": "[encoded data removed]",
      "text/plain": [
       "<Figure size 432x288 with 1 Axes>"
      ]
     },
     "metadata": {
      "needs_background": "light"
     },
     "output_type": "display_data"
    }
   ],
   "source": [
    "plt.hist(residual, rwidth=0.9);"
   ]
  },
  {
   "cell_type": "code",
   "execution_count": 31,
   "metadata": {},
   "outputs": [
    {
     "name": "stdout",
     "output_type": "stream",
     "text": [
      "linear model estimator CV: 10.30\n"
     ]
    }
   ],
   "source": [
    "model = LinearRegression()\n",
    "score = np.sqrt(np.mean(-cross_val_score(model, X, Y, cv=5, scoring='neg_mean_squared_error')))\n",
    "\n",
    "print('linear model estimator CV: {:.2f}'.format(score))"
   ]
  },
  {
   "cell_type": "markdown",
   "metadata": {},
   "source": [
    "Predictions"
   ]
  },
  {
   "cell_type": "code",
   "execution_count": 22,
   "metadata": {},
   "outputs": [
    {
     "name": "stdout",
     "output_type": "stream",
     "text": [
      "Score is 114.22\n"
     ]
    }
   ],
   "source": [
    "model = LinearRegression()\n",
    "model.fit(X, Y)\n",
    "\n",
    "test_row = {\n",
    "    'score_in': 90,\n",
    "    'Blue': 0,\n",
    "    'Brown': 1,\n",
    "    'Green': 0,\n",
    "    'High': 1,\n",
    "    'Low': 0,\n",
    "    'Female': 0,\n",
    "    'Male': 1\n",
    "}\n",
    "\n",
    "score = model.predict(pd.DataFrame([test_row])[X.columns])[0]\n",
    "\n",
    "print('Score is {:.2f}'.format(score))"
   ]
  }
 ],
 "metadata": {
  "kernelspec": {
   "display_name": "Python 3",
   "language": "python",
   "name": "python3"
  },
  "language_info": {
   "codemirror_mode": {
    "name": "ipython",
    "version": 3
   },
   "file_extension": ".py",
   "mimetype": "text/x-python",
   "name": "python",
   "nbconvert_exporter": "python",
   "pygments_lexer": "ipython3",
   "version": "3.7.1"
  }
 },
 "nbformat": 4,
 "nbformat_minor": 2
}
