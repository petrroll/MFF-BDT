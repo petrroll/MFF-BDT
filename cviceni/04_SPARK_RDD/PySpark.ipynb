{
 "cells": [
  {
   "cell_type": "code",
   "execution_count": null,
   "metadata": {},
   "outputs": [],
   "source": [
    "pyspark --master yarn # starts spark on whole yarn cluster\n",
    "lines = sc.textFile(\"/user/pascepet/data/bible.txt\") # loads file from hdfs\n",
    "\n",
    "# returns n-elements (since it's distributed it can be any first n lines spark gets)\n",
    "lines.take(5) \n",
    "\n",
    "# Chain of transforms of RDDs\n",
    "words = lines.flatMap(lambda line: line.split(\" \")) # appends lists of new elements created by the lambda\n",
    "pairs = words.map(lambda word: (word, 1))\n",
    "counts = pairs.reduceByKey(lambda a, b: a+b)    # 2-element tuple is interpreted as (key, value)\n",
    "                                                # no implicit key before it gets created \n",
    "\n",
    "# Counts isn't evaluated yet (lazy)\n",
    "counts.take(10) # now it gets evaluated\n",
    "counts.count()\n",
    "\n",
    "# By default as soon as sparks computes and returns an answer it forgets all intermediate calculations\n",
    "# Multiple calls to `counts.take(10)` always triggers whole chain of re-computation\n",
    "# It's possible to cache data -> metacentrum has some caching policy enabled\n",
    "# see presentations for more info\n",
    "\n",
    "# Spark works on graph of transformations, once spark sees a cached node it doesn't evaluate deeper\n",
    "countsSorted = counts.sortBy(lambda a: a[1], ascending=False)\n",
    "countsSorted.cache() #1.1\n",
    "\n",
    "# Transform all to lowercase...\n",
    "wordsSmall = words.map(lambda w: w.lower()) #1.3\n",
    "lines = lines.map(lambda l: w.split(\"\\t\")[0]) #1.4\n",
    "lines = lines.filter(lambda l: l != \"\") # Filters out empty lines\n",
    "\n",
    "\n"
   ]
  }
 ],
 "metadata": {
  "kernelspec": {
   "display_name": "Python 3",
   "language": "python",
   "name": "python3"
  },
  "language_info": {
   "codemirror_mode": {
    "name": "ipython",
    "version": 3
   },
   "file_extension": ".py",
   "mimetype": "text/x-python",
   "name": "python",
   "nbconvert_exporter": "python",
   "pygments_lexer": "ipython3",
   "version": "3.6.3"
  }
 },
 "nbformat": 4,
 "nbformat_minor": 2
}
